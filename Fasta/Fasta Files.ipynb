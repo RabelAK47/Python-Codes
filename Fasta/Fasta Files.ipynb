{
 "cells": [
  {
   "cell_type": "markdown",
   "metadata": {},
   "source": [
    "### Single Fasta document"
   ]
  },
  {
   "cell_type": "code",
   "execution_count": null,
   "metadata": {
    "collapsed": true
   },
   "outputs": [],
   "source": [
    "from Bio import SeqIO\n",
    "path = 'C:/Users/Rabel/my_data.fasta'\n",
    "record = SeqIO.read(path,'fasta')\n",
    "\n",
    "print(record.id)\n",
    "print(record.description)\n",
    "print(record.seq)"
   ]
  },
  {
   "cell_type": "markdown",
   "metadata": {},
   "source": [
    "### Multiple Fasta Documents"
   ]
  },
  {
   "cell_type": "code",
   "execution_count": null,
   "metadata": {
    "collapsed": true
   },
   "outputs": [],
   "source": [
    "from Bio import SeqIO\n",
    "path = 'C:/Users/Rabel/my_data.fasta'\n",
    "records = list(SeqIO.parse(path, \"fasta\"))\n",
    "\n",
    "for i in range(len(records)):\n",
    "    ID = records[i].id\n",
    "    data = records[i].seq\n",
    "    print(ID)\n",
    "    print(data)"
   ]
  }
 ],
 "metadata": {
  "kernelspec": {
   "display_name": "Python 3",
   "language": "python",
   "name": "python3"
  },
  "language_info": {
   "codemirror_mode": {
    "name": "ipython",
    "version": 3
   },
   "file_extension": ".py",
   "mimetype": "text/x-python",
   "name": "python",
   "nbconvert_exporter": "python",
   "pygments_lexer": "ipython3",
   "version": "3.6.1"
  }
 },
 "nbformat": 4,
 "nbformat_minor": 2
}
