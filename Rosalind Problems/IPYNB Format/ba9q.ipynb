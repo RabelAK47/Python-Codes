{
 "cells": [
  {
   "cell_type": "code",
   "execution_count": 29,
   "metadata": {},
   "outputs": [
    {
     "name": "stdout",
     "output_type": "stream",
     "text": [
      "PANAMABANANAS$\n",
      "5\n",
      "1,5\n",
      "11,10\n",
      "12,0\n"
     ]
    }
   ],
   "source": [
    "#Problem: http://rosalind.info/problems/ba9q/\n",
    "\n",
    "def suff(text, K):\n",
    "    my_list = []\n",
    "    dc = {}\n",
    "    for i in range(len(text)):\n",
    "        sub = text[i:]\n",
    "        my_list.append(sub)\n",
    "        dc[sub] = i\n",
    "    my_list.sort()\n",
    "    for i in range(len(my_list)):\n",
    "        temp = my_list[i]\n",
    "        if temp in dc and dc[temp]%K == 0:\n",
    "            ans = str(i) + \",\" + str(dc[temp])\n",
    "            print(ans)\n",
    "text = input()\n",
    "K = int(input())\n",
    "suff(text, K)"
   ]
  }
 ],
 "metadata": {
  "kernelspec": {
   "display_name": "Python 3",
   "language": "python",
   "name": "python3"
  },
  "language_info": {
   "codemirror_mode": {
    "name": "ipython",
    "version": 3
   },
   "file_extension": ".py",
   "mimetype": "text/x-python",
   "name": "python",
   "nbconvert_exporter": "python",
   "pygments_lexer": "ipython3",
   "version": "3.6.1"
  }
 },
 "nbformat": 4,
 "nbformat_minor": 2
}
