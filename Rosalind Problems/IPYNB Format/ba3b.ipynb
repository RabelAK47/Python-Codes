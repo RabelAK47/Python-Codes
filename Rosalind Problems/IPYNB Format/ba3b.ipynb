{
 "cells": [
  {
   "cell_type": "code",
   "execution_count": null,
   "metadata": {
    "collapsed": true
   },
   "outputs": [],
   "source": [
    "# ba3b\n",
    "F = open('D:/input_test.txt', 'r')\n",
    "lines = []\n",
    "ans = \"\"\n",
    "for L in F.readlines():\n",
    "    lines.append(L.strip())\n",
    "for i in range(len(lines)-1):\n",
    "    temp = lines[i]\n",
    "    ans += temp[0]\n",
    "ans = ans + lines[len(lines)-1]\n",
    "print(ans)\n",
    "ans = \"\"\n",
    "F.close()"
   ]
  }
 ],
 "metadata": {
  "kernelspec": {
   "display_name": "Python [conda root]",
   "language": "python",
   "name": "conda-root-py"
  },
  "language_info": {
   "codemirror_mode": {
    "name": "ipython",
    "version": 3
   },
   "file_extension": ".py",
   "mimetype": "text/x-python",
   "name": "python",
   "nbconvert_exporter": "python",
   "pygments_lexer": "ipython3",
   "version": "3.5.2"
  }
 },
 "nbformat": 4,
 "nbformat_minor": 1
}
