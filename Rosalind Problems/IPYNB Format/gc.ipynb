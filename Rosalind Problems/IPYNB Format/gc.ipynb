{
 "cells": [
  {
   "cell_type": "code",
   "execution_count": 51,
   "metadata": {
    "scrolled": true
   },
   "outputs": [
    {
     "name": "stdout",
     "output_type": "stream",
     "text": [
      "Rosalind_0384\n",
      "52.130045\n"
     ]
    }
   ],
   "source": [
    "'''\n",
    "http://rosalind.info/problems/gc/\n",
    "'''\n",
    "\n",
    "from Bio import SeqIO\n",
    "path = 'C:/Users/Rabel/my_data.fasta'\n",
    "records = list(SeqIO.parse(path, \"fasta\"))\n",
    "dc = {}\n",
    "mx = -99999999999.9\n",
    "for i in range(len(records)):\n",
    "    ID = records[i].id\n",
    "    DNA = records[i].seq\n",
    "    Count = 0\n",
    "    total = len(DNA)\n",
    "    for j in DNA:\n",
    "        if j in \"GC\":\n",
    "            Count += 1\n",
    "    temp = 100* float(Count)/total\n",
    "    dc[ID] = temp\n",
    "    if temp > mx:\n",
    "        mx = temp\n",
    "for key, val in dc.items():\n",
    "    if val == mx:\n",
    "        print(key)\n",
    "        print(\"%.6f\" % val)\n",
    "        break"
   ]
  }
 ],
 "metadata": {
  "kernelspec": {
   "display_name": "Python 3",
   "language": "python",
   "name": "python3"
  },
  "language_info": {
   "codemirror_mode": {
    "name": "ipython",
    "version": 3
   },
   "file_extension": ".py",
   "mimetype": "text/x-python",
   "name": "python",
   "nbconvert_exporter": "python",
   "pygments_lexer": "ipython3",
   "version": "3.6.1"
  }
 },
 "nbformat": 4,
 "nbformat_minor": 2
}
