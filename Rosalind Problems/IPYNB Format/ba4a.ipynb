{
 "cells": [
  {
   "cell_type": "code",
   "execution_count": null,
   "metadata": {
    "collapsed": true
   },
   "outputs": [],
   "source": [
    "#Problem: http://rosalind.info/problems/ba4a/\n",
    "\n",
    "F = open('D:/Rabel/DC_Input.txt', 'r')\n",
    "S = open('D:/Rabel/rosalind_prot.txt', 'r')\n",
    "Fout = open('D:/Rabel/My_Output.txt', 'w')\n",
    "dc = {}\n",
    "for L in F.readlines():\n",
    "    temp = L.strip()\n",
    "    key = temp[0:3]\n",
    "    val = temp[4:4+len(temp)]\n",
    "    dc[key] = val\n",
    "    \n",
    "DNA = S.readline().strip()\n",
    "ans = \"\"\n",
    "for i in range(0, len(DNA), 3):\n",
    "    sub = DNA[i:i+3]\n",
    "    if sub in dc:\n",
    "        temp = dc[sub]\n",
    "        if temp == \"Stop\":\n",
    "            break\n",
    "        else:\n",
    "            ans += temp\n",
    "Fout.write(ans)\n",
    "F.close()\n",
    "S.close()\n",
    "Fout.close()"
   ]
  }
 ],
 "metadata": {
  "kernelspec": {
   "display_name": "Python 3",
   "language": "python",
   "name": "python3"
  },
  "language_info": {
   "codemirror_mode": {
    "name": "ipython",
    "version": 3
   },
   "file_extension": ".py",
   "mimetype": "text/x-python",
   "name": "python",
   "nbconvert_exporter": "python",
   "pygments_lexer": "ipython3",
   "version": "3.6.1"
  }
 },
 "nbformat": 4,
 "nbformat_minor": 2
}
