{
 "cells": [
  {
   "cell_type": "code",
   "execution_count": 1,
   "metadata": {},
   "outputs": [
    {
     "name": "stdout",
     "output_type": "stream",
     "text": [
      "ATTCTGGA\n",
      "CGCCCGAATCCAGAACGCATTCCCATATTTCGGGACCACTGGCCTCCACGGTACGGACGTCAATCAAATGCCTAGCGGCTTGTGGTTTCTCCTACGCTCC\n",
      "3\n",
      "6 7 26 27 78\n"
     ]
    }
   ],
   "source": [
    "# Problem http://rosalind.info/problems/ba1h/\n",
    "A = input()\n",
    "B = input()\n",
    "K = int(input())\n",
    "ans = \"\"\n",
    "for i in range(len(B)):\n",
    "    sub = B[i: i+len(A)]\n",
    "    if len(sub) == len(A):\n",
    "        Count = 0\n",
    "        for j in range(len(A)):\n",
    "            if A[j] != sub[j] :\n",
    "                Count += 1\n",
    "        if Count <= K:\n",
    "            ans = ans + str(i)\n",
    "            ans = ans + ' '\n",
    "print(ans[0:len(ans)-1])"
   ]
  }
 ],
 "metadata": {
  "kernelspec": {
   "display_name": "Python 3",
   "language": "python",
   "name": "python3"
  },
  "language_info": {
   "codemirror_mode": {
    "name": "ipython",
    "version": 3
   },
   "file_extension": ".py",
   "mimetype": "text/x-python",
   "name": "python",
   "nbconvert_exporter": "python",
   "pygments_lexer": "ipython3",
   "version": "3.6.1"
  }
 },
 "nbformat": 4,
 "nbformat_minor": 2
}
