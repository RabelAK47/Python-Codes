{
 "cells": [
  {
   "cell_type": "code",
   "execution_count": null,
   "metadata": {},
   "outputs": [],
   "source": [
    "# Problem http://rosalind.info/problems/ba1b/\n",
    "st = input()\n",
    "K = int(input())\n",
    "dc = {}\n",
    "mx = -999999999999999\n",
    "for i in range(len(st)):\n",
    "    sub = st[i:i+K]\n",
    "    if sub not in dc:\n",
    "        dc[sub] = 1\n",
    "    else:\n",
    "        dc[sub] += 1\n",
    "    if dc[sub] > mx:\n",
    "        mx = dc[sub]\n",
    "ans = \"\"\n",
    "for key, val in dc.items():\n",
    "    if val == mx:\n",
    "        ans += key\n",
    "        ans += \" \"\n",
    "print(ans[0:len(ans)-1])"
   ]
  }
 ],
 "metadata": {
  "kernelspec": {
   "display_name": "Python 3",
   "language": "python",
   "name": "python3"
  },
  "language_info": {
   "codemirror_mode": {
    "name": "ipython",
    "version": 3
   },
   "file_extension": ".py",
   "mimetype": "text/x-python",
   "name": "python",
   "nbconvert_exporter": "python",
   "pygments_lexer": "ipython3",
   "version": "3.6.1"
  }
 },
 "nbformat": 4,
 "nbformat_minor": 2
}
