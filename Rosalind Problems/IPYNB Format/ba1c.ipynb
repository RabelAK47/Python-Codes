{
 "cells": [
  {
   "cell_type": "code",
   "execution_count": 1,
   "metadata": {},
   "outputs": [
    {
     "name": "stdout",
     "output_type": "stream",
     "text": [
      "AAAACCCGGT\n",
      "ACCGGGTTTT\n"
     ]
    }
   ],
   "source": [
    "# Problem http://rosalind.info/problems/ba1c/\n",
    "dc = {'A':'T', 'G' : 'C', 'T' : 'A', 'C': 'G'}\n",
    "st = input()\n",
    "mystr = \"\"\n",
    "for i in st:\n",
    "    mystr = mystr + dc[i]\n",
    "print(mystr[::-1])"
   ]
  }
 ],
 "metadata": {
  "kernelspec": {
   "display_name": "Python 3",
   "language": "python",
   "name": "python3"
  },
  "language_info": {
   "codemirror_mode": {
    "name": "ipython",
    "version": 3
   },
   "file_extension": ".py",
   "mimetype": "text/x-python",
   "name": "python",
   "nbconvert_exporter": "python",
   "pygments_lexer": "ipython3",
   "version": "3.6.1"
  }
 },
 "nbformat": 4,
 "nbformat_minor": 2
}
