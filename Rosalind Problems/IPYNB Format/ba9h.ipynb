{
 "cells": [
  {
   "cell_type": "code",
   "execution_count": 19,
   "metadata": {},
   "outputs": [
    {
     "name": "stdout",
     "output_type": "stream",
     "text": [
      "AATCGGGTTCAATCGGGGT\n",
      "1 4 11 15 \n"
     ]
    }
   ],
   "source": [
    "# Problem http://rosalind.info/problems/ba9h/\n",
    "\n",
    "F = open(\"C:/Users/Rabel/suff.txt\")\n",
    "DNA = input()\n",
    "res = \"\"\n",
    "li = []\n",
    "for L in F.readlines():\n",
    "    temp = L.strip()\n",
    "    for i in range(len(DNA)):\n",
    "        sub = DNA[i:i+len(temp)]\n",
    "        if sub == temp:\n",
    "            li.append(i)\n",
    "li = sorted(li)\n",
    "for i in range(len(li)):\n",
    "    res += str(li[i]) + \" \"\n",
    "print(res)\n",
    "F.close()"
   ]
  }
 ],
 "metadata": {
  "kernelspec": {
   "display_name": "Python 3",
   "language": "python",
   "name": "python3"
  },
  "language_info": {
   "codemirror_mode": {
    "name": "ipython",
    "version": 3
   },
   "file_extension": ".py",
   "mimetype": "text/x-python",
   "name": "python",
   "nbconvert_exporter": "python",
   "pygments_lexer": "ipython3",
   "version": "3.6.1"
  }
 },
 "nbformat": 4,
 "nbformat_minor": 2
}
