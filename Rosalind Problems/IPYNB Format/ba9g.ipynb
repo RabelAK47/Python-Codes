{
 "cells": [
  {
   "cell_type": "code",
   "execution_count": 1,
   "metadata": {},
   "outputs": [
    {
     "name": "stdout",
     "output_type": "stream",
     "text": [
      "AACGATAGCGGTAGA$\n",
      "15, 14, 0, 1, 12, 6, 4, 2, 8, 13, 3, 7, 9, 10, 11, 5\n"
     ]
    }
   ],
   "source": [
    "#Problem: http://rosalind.info/problems/ba9g/\n",
    "\n",
    "DNA = input()\n",
    "li = []\n",
    "dc = {}\n",
    "for i in range(len(DNA)):\n",
    "    temp = DNA[i:i+len(DNA)]\n",
    "    dc[temp] = i\n",
    "    li.append(temp)\n",
    "li = sorted(li)\n",
    "res = \"\"\n",
    "for i in range(len(li)):\n",
    "    temp = li[i]\n",
    "    if temp in dc:\n",
    "        res += str(dc[temp]) + \", \"\n",
    "print(res[0: len(res)-2])"
   ]
  }
 ],
 "metadata": {
  "kernelspec": {
   "display_name": "Python 3",
   "language": "python",
   "name": "python3"
  },
  "language_info": {
   "codemirror_mode": {
    "name": "ipython",
    "version": 3
   },
   "file_extension": ".py",
   "mimetype": "text/x-python",
   "name": "python",
   "nbconvert_exporter": "python",
   "pygments_lexer": "ipython3",
   "version": "3.6.1"
  }
 },
 "nbformat": 4,
 "nbformat_minor": 2
}
