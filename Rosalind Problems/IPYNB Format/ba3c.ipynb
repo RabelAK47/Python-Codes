{
 "cells": [
  {
   "cell_type": "code",
   "execution_count": null,
   "metadata": {
    "collapsed": true
   },
   "outputs": [],
   "source": [
    "#ba3c\n",
    "\n",
    "def prefix(my_str):\n",
    "    return my_str[:len(my_str)-1]\n",
    "\n",
    "def suffix(my_str):\n",
    "    return my_str[1:]\n",
    "\n",
    "F = open('D:/CCCCC.txt', 'r')\n",
    "lines = []\n",
    "ans = \"\"\n",
    "for L in F.readlines():\n",
    "    lines.append(L.strip())\n",
    "\n",
    "Len = len(lines)\n",
    "dc = {}\n",
    "for i in range(Len):\n",
    "    for j in range(Len):\n",
    "        if (i != j):\n",
    "            if(suffix(lines[i]) == prefix(lines[j])):\n",
    "                k = lines[i]\n",
    "                v = lines[j]\n",
    "                dc[k] = v\n",
    "sorted(dc.items())\n",
    "for key, val in dc.items():\n",
    "    print(key, \"->\", val)\n",
    "F.close()"
   ]
  }
 ],
 "metadata": {
  "anaconda-cloud": {},
  "kernelspec": {
   "display_name": "Python [conda root]",
   "language": "python",
   "name": "conda-root-py"
  },
  "language_info": {
   "codemirror_mode": {
    "name": "ipython",
    "version": 3
   },
   "file_extension": ".py",
   "mimetype": "text/x-python",
   "name": "python",
   "nbconvert_exporter": "python",
   "pygments_lexer": "ipython3",
   "version": "3.5.2"
  }
 },
 "nbformat": 4,
 "nbformat_minor": 1
}
