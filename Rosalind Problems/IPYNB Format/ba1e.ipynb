{
 "cells": [
  {
   "cell_type": "code",
   "execution_count": null,
   "metadata": {
    "collapsed": true
   },
   "outputs": [],
   "source": [
    "# Problem http://rosalind.info/problems/ba1e/\n",
    "def Mapping(G, K):\n",
    "    mp = {}\n",
    "    for i in range(len(G)):\n",
    "        sub = G[i:i+K]\n",
    "        if len(sub) == K:\n",
    "            if sub not in mp:\n",
    "                mp[sub] = 1\n",
    "            else:\n",
    "                mp[sub] += 1\n",
    "    return mp\n",
    "\n",
    "def Clumps(Mp, G, L, T):\n",
    "    ans = \"\"\n",
    "    visit = {}\n",
    "    for key, val in Mp.items():\n",
    "        if val >= T:\n",
    "            for i in range(len(G)):\n",
    "                sub2 = G[i: i+L]\n",
    "                if len(sub2) == L and sub2.count(key) >= T and key not in visit:\n",
    "                    ans += key+\" \"\n",
    "                    visit[key] = key\n",
    "    return ans[:len(ans)-1]\n",
    "\n",
    "G = input()\n",
    "K = int(input())\n",
    "L = int(input())\n",
    "T = int(input())\n",
    "\n",
    "Mp = Mapping(G, K)\n",
    "res = Clumps(Mp, G, L, T)\n",
    "print(res)"
   ]
  }
 ],
 "metadata": {
  "kernelspec": {
   "display_name": "Python 3",
   "language": "python",
   "name": "python3"
  },
  "language_info": {
   "codemirror_mode": {
    "name": "ipython",
    "version": 3
   },
   "file_extension": ".py",
   "mimetype": "text/x-python",
   "name": "python",
   "nbconvert_exporter": "python",
   "pygments_lexer": "ipython3",
   "version": "3.6.1"
  }
 },
 "nbformat": 4,
 "nbformat_minor": 2
}
