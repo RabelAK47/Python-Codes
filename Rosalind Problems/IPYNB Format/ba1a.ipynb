{
 "cells": [
  {
   "cell_type": "code",
   "execution_count": 1,
   "metadata": {},
   "outputs": [
    {
     "name": "stdout",
     "output_type": "stream",
     "text": [
      "GCGCG\n",
      "GCG\n",
      "2\n"
     ]
    }
   ],
   "source": [
    "# Problem http://rosalind.info/problems/ba1a/\n",
    "A = input()\n",
    "B = input()\n",
    "Count = 0\n",
    "for i in range(0, len(A)):\n",
    "    sub = A[i:i+len(B)]\n",
    "    if sub == B:\n",
    "        Count += 1\n",
    "print(Count)"
   ]
  }
 ],
 "metadata": {
  "kernelspec": {
   "display_name": "Python 3",
   "language": "python",
   "name": "python3"
  },
  "language_info": {
   "codemirror_mode": {
    "name": "ipython",
    "version": 3
   },
   "file_extension": ".py",
   "mimetype": "text/x-python",
   "name": "python",
   "nbconvert_exporter": "python",
   "pygments_lexer": "ipython3",
   "version": "3.6.1"
  }
 },
 "nbformat": 4,
 "nbformat_minor": 2
}
