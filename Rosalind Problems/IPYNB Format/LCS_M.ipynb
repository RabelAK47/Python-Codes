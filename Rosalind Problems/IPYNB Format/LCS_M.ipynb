{
 "cells": [
  {
   "cell_type": "code",
   "execution_count": null,
   "metadata": {
    "collapsed": true
   },
   "outputs": [],
   "source": [
    "#BA5C\n",
    "import numpy as np\n",
    "\n",
    "str1 = input()\n",
    "str2 = input()\n",
    "\n",
    "L = len(str1)\n",
    "M = len(str2)\n",
    "\n",
    "arr = np.zeros((L+1, M+1), dtype = np.int)\n",
    "direction = np.zeros((L+1, M+1), dtype = np.str)\n",
    "\n",
    "    \n",
    "for i in range(1, L+1, 1):\n",
    "    for j in range(1, M+1, 1):\n",
    "        \n",
    "        if str1[i-1] == str2[j-1]:\n",
    "            arr[i][j] = arr[i-1][j-1] + 1\n",
    "            direction[i][j] = 'C'\n",
    "        \n",
    "        elif arr[i-1][j] > arr[i][j-1]:\n",
    "            arr[i][j] = arr[i-1][j]\n",
    "            direction[i][j] = 'U'\n",
    "        \n",
    "        else:\n",
    "            arr[i][j] = arr[i][j-1]\n",
    "            direction[i][j] = 'L'\n",
    "\n",
    "res = \"\"\n",
    "while True:\n",
    "    if L == 0 or M == 0:\n",
    "        break\n",
    "    if direction[L][M] == 'C':\n",
    "        res += str1[L-1]\n",
    "        L -= 1\n",
    "        M -= 1\n",
    "    elif direction[L][M] == 'U':\n",
    "        L -= 1\n",
    "    else:\n",
    "        M -= 1\n",
    "print(res[::-1])   \n",
    "\n",
    "# input: AACCTTGG\n",
    "# input: ACACTGTGA\n",
    "# output: AACTGG"
   ]
  }
 ],
 "metadata": {
  "kernelspec": {
   "display_name": "Python 3",
   "language": "python",
   "name": "python3"
  },
  "language_info": {
   "codemirror_mode": {
    "name": "ipython",
    "version": 3
   },
   "file_extension": ".py",
   "mimetype": "text/x-python",
   "name": "python",
   "nbconvert_exporter": "python",
   "pygments_lexer": "ipython3",
   "version": "3.6.1"
  }
 },
 "nbformat": 4,
 "nbformat_minor": 2
}
