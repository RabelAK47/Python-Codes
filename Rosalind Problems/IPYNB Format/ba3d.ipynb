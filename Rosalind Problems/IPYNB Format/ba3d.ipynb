{
 "cells": [
  {
   "cell_type": "code",
   "execution_count": 77,
   "metadata": {
    "collapsed": false
   },
   "outputs": [
    {
     "name": "stdout",
     "output_type": "stream",
     "text": [
      "4\n",
      "AAGATTCTCTAC\n",
      "GAT -> ATT\n",
      "AAG -> AGA\n",
      "ATT -> TTC\n",
      "TCT -> CTA, CTC\n",
      "AGA -> GAT\n",
      "CTC -> TCT\n",
      "TTC -> TCT\n"
     ]
    }
   ],
   "source": [
    "def prefix(my_str):\n",
    "    return my_str[:len(my_str)-1]\n",
    "\n",
    "def suffix(my_str):\n",
    "    return my_str[1:]\n",
    "\n",
    "K = int(input())\n",
    "DNA = input()\n",
    "lines = []\n",
    "for i in range(len(DNA)):\n",
    "    sub = DNA[i:i+K]\n",
    "    if(len(sub) == K):\n",
    "        lines.append(sub)\n",
    "\n",
    "dc = {}\n",
    "Len = len(lines)\n",
    "for i in range(Len):\n",
    "    for j in range(Len):\n",
    "        if (i != j):\n",
    "            sf = lines[i]\n",
    "            sf = sf[0: len(sf)-1]\n",
    "            pf = lines[j]\n",
    "            pf = pf[0: len(pf)-1]\n",
    "            if(suffix(sf) == prefix(pf)):\n",
    "                if sf not in dc:\n",
    "                    dc[sf] = (pf,)\n",
    "                else:\n",
    "                    dc[sf] += (pf,)\n",
    "sorted(dc.items())\n",
    "for key, val in dc.items():\n",
    "    if len(dc[key]) == 1:\n",
    "        print(key, \"->\", dc[key][0])\n",
    "    else:\n",
    "        ans = \"\"\n",
    "        dc[key] = sorted(dc[key])\n",
    "        test = dc[key][0]\n",
    "        del dc[key][0]\n",
    "        my_list = []\n",
    "        for item in dc[key]:\n",
    "            my_list.append(str(item))\n",
    "        check = sorted(my_list)\n",
    "        ans = \"\"\n",
    "        final = []\n",
    "        for jj in range(len(check)-1):\n",
    "            if(check[jj] != check[jj+1]):\n",
    "                final.append(check[jj])\n",
    "        final.append(check[len(check)-1])\n",
    "        ans = str(key) + \" -> \"\n",
    "        for j in range(len(final)-1):\n",
    "            ans += final[j] + \", \"\n",
    "        ans += final[len(final)-1]\n",
    "        print(ans)"
   ]
  }
 ],
 "metadata": {
  "anaconda-cloud": {},
  "kernelspec": {
   "display_name": "Python [conda root]",
   "language": "python",
   "name": "conda-root-py"
  },
  "language_info": {
   "codemirror_mode": {
    "name": "ipython",
    "version": 3
   },
   "file_extension": ".py",
   "mimetype": "text/x-python",
   "name": "python",
   "nbconvert_exporter": "python",
   "pygments_lexer": "ipython3",
   "version": "3.5.2"
  }
 },
 "nbformat": 4,
 "nbformat_minor": 1
}
