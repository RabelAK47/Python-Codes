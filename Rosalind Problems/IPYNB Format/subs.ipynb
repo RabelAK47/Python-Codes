{
 "cells": [
  {
   "cell_type": "code",
   "execution_count": 16,
   "metadata": {},
   "outputs": [
    {
     "name": "stdout",
     "output_type": "stream",
     "text": [
      "GTATATAT\n",
      "ATAT\n",
      "3 5\n"
     ]
    }
   ],
   "source": [
    "'''\n",
    "http://rosalind.info/problems/subs/\n",
    "'''\n",
    "\n",
    "A = input()\n",
    "B = input()\n",
    "ans = \"\"\n",
    "for i in range(len(A)):\n",
    "    sub = A[i:i+len(B)]\n",
    "    if sub == B:\n",
    "        ans += str(i+1) + \" \"\n",
    "print(ans[0:len(ans)-1])"
   ]
  }
 ],
 "metadata": {
  "kernelspec": {
   "display_name": "Python 3",
   "language": "python",
   "name": "python3"
  },
  "language_info": {
   "codemirror_mode": {
    "name": "ipython",
    "version": 3
   },
   "file_extension": ".py",
   "mimetype": "text/x-python",
   "name": "python",
   "nbconvert_exporter": "python",
   "pygments_lexer": "ipython3",
   "version": "3.6.1"
  }
 },
 "nbformat": 4,
 "nbformat_minor": 2
}
