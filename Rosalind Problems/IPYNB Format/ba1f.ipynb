{
 "cells": [
  {
   "cell_type": "code",
   "execution_count": 18,
   "metadata": {},
   "outputs": [],
   "source": [
    "# Problem http://rosalind.info/problems/ba1f/\n",
    "\n",
    "f = open('G:/Python/Text/input.txt', 'r')\n",
    "fout = open('G:/Python/Text/output.txt', 'w')\n",
    "\n",
    "DNA = f.readline()\n",
    "\n",
    "mn = 9999999999999999\n",
    "Vec = [0]\n",
    "Count = 0\n",
    "for i in range(len(DNA)):\n",
    "    if Count < mn:\n",
    "        mn = Count\n",
    "    if DNA[i] == 'C':\n",
    "        Count -= 1\n",
    "    elif DNA[i] == 'G':\n",
    "        Count += 1\n",
    "    Vec.append(Count)\n",
    "ans = \"\"\n",
    "for i in range(len(Vec)):\n",
    "    if mn == Vec[i]:\n",
    "        ans += str(i) + ' '\n",
    "fout.write(ans[0:len(ans)-1])\n",
    "f.close()\n",
    "fout.close()"
   ]
  }
 ],
 "metadata": {
  "kernelspec": {
   "display_name": "Python 3",
   "language": "python",
   "name": "python3"
  },
  "language_info": {
   "codemirror_mode": {
    "name": "ipython",
    "version": 3
   },
   "file_extension": ".py",
   "mimetype": "text/x-python",
   "name": "python",
   "nbconvert_exporter": "python",
   "pygments_lexer": "ipython3",
   "version": "3.6.1"
  }
 },
 "nbformat": 4,
 "nbformat_minor": 2
}
