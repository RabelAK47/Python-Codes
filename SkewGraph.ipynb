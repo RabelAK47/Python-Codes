{
 "cells": [
  {
   "cell_type": "code",
   "execution_count": 1,
   "metadata": {},
   "outputs": [
    {
     "data": {
      "image/png": "[encoded data removed]",
      "text/plain": [
       "<matplotlib.figure.Figure at 0x77defbe128>"
      ]
     },
     "metadata": {},
     "output_type": "display_data"
    }
   ],
   "source": [
    "%matplotlib inline\n",
    "#import module give a nickname\n",
    "import matplotlib.pyplot as plt\n",
    "\n",
    "data=[0,4,4,4,4,4,3.9,4,4]#random\n",
    "#index in x axis and data in y axis\n",
    "\n",
    "plt.plot(data)\n",
    "plt.show()"
   ]
  },
  {
   "cell_type": "code",
   "execution_count": null,
   "metadata": {
    "collapsed": true
   },
   "outputs": [],
   "source": [
    "#task plot skew in diagram of e.coli nucliotide from genbank\n",
    "\n",
    "from Bio import SeqIO\n",
    "path = 'C:/Users/advancedlab/Downloads/task.fasta'\n",
    "record=SeqIO.read(path,'fasta')\n",
    "str = record.seq\n",
    "%matplotlib inline\n",
    "import matplotlib.pyplot as plt\n",
    "lis=[0]\n",
    "for n in str:\n",
    "    if n in'C':\n",
    "        lis.append(lis[-1]-1)\n",
    "    elif n in'G':\n",
    "        lis.append(lis[-1]+1)\n",
    "    else:\n",
    "        lis.append(lis[-1])\n",
    "plt.plot(lis)\n",
    "plt.show()"
   ]
  }
 ],
 "metadata": {
  "kernelspec": {
   "display_name": "Python 3",
   "language": "python",
   "name": "python3"
  },
  "language_info": {
   "codemirror_mode": {
    "name": "ipython",
    "version": 3
   },
   "file_extension": ".py",
   "mimetype": "text/x-python",
   "name": "python",
   "nbconvert_exporter": "python",
   "pygments_lexer": "ipython3",
   "version": "3.6.1"
  }
 },
 "nbformat": 4,
 "nbformat_minor": 2
}
